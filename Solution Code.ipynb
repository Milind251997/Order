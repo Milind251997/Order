{
 "cells": [
  {
   "cell_type": "markdown",
   "metadata": {},
   "source": [
    "**Problem Statement:** \n",
    "\n",
    "    Create a Python program that reads the data stored in the provided rainfall.txt, where each line in the text file contains the name of a city, followed by whitespace, followed by the city's annual rainfall (in mm). Process this data so that it is grouped by annual rainfall into the following categories: [50-60 mm), [60-70 mm), [70-80 mm), [80-90 mm), [90-100 mm], and then sorted from lowest to highest rainfall within each category. Write this processed data to a new file called rain fall fmt.txt, so that under each category the city name is centered in a field that is 25 characters wide and is in all uppercase letters. The city name should be followed by its rainfall, right-aligned in a field that is 5 characters wide with I digit to the right of the decimal point."
   ]
  },
  {
   "cell_type": "markdown",
   "metadata": {},
   "source": [
    "### Solution"
   ]
  },
  {
   "cell_type": "code",
   "execution_count": 2,
   "metadata": {},
   "outputs": [
    {
     "name": "stdout",
     "output_type": "stream",
     "text": [
      "Data has been processed and written to rainfall_fmt.txt.\n"
     ]
    }
   ],
   "source": [
    "# First we have to define the categories and their corresponding ranges\n",
    "categories = {\n",
    "    \"[50-60 mm)\": (50, 60),\n",
    "    \"[60-70 mm)\": (60, 70),\n",
    "    \"[70-80 mm)\": (70, 80),\n",
    "    \"[80-90 mm)\": (80, 90),\n",
    "    \"[90-100 mm]\": (90, 100)\n",
    "}\n",
    "\n",
    "# Create empty dictionaries to store cities in each category\n",
    "category_cities = {cat: [] for cat in categories}\n",
    "\n",
    "# Read data from rainfall.txt and categorize cities\n",
    "with open(\"rainfall.txt\", \"r\") as file:\n",
    "    for line in file:\n",
    "        city, rainfall = line.strip().split()\n",
    "        rainfall = float(rainfall)\n",
    "        for cat, (lower, upper) in categories.items():\n",
    "            if lower <= rainfall < upper:\n",
    "                category_cities[cat].append((city.upper(), rainfall))\n",
    "\n",
    "# Sort cities within each category by rainfall\n",
    "for cat, cities in category_cities.items():\n",
    "    category_cities[cat] = sorted(cities, key=lambda x: x[1])\n",
    "\n",
    "# Write the processed data to rainfall_fmt.txt\n",
    "with open(\"rainfall_fmt.txt\", \"w\") as output_file:\n",
    "    for cat, cities in category_cities.items():\n",
    "        output_file.write(f\"{cat.center(25)}\\n\")\n",
    "        for city, rainfall in cities:\n",
    "            formatted_city = city.center(25)\n",
    "            formatted_rainfall = f\"{rainfall:.1f}\".rjust(5)\n",
    "            output_file.write(f\"{formatted_city}{formatted_rainfall}\\n\")\n",
    "\n",
    "print(\"Data has been processed and written to rainfall_fmt.txt.\")\n"
   ]
  },
  {
   "cell_type": "markdown",
   "metadata": {},
   "source": [
    "**Make sure you have a file named rainfall.txt with the city data in the specifiedfile and format before running this program. It will create a new file called rainfall_fmt.txt with the processed data as described in your requirements.**"
   ]
  },
  {
   "cell_type": "markdown",
   "metadata": {},
   "source": [
    "### Thank You"
   ]
  }
 ],
 "metadata": {
  "kernelspec": {
   "display_name": "Python 3 (ipykernel)",
   "language": "python",
   "name": "python3"
  },
  "language_info": {
   "codemirror_mode": {
    "name": "ipython",
    "version": 3
   },
   "file_extension": ".py",
   "mimetype": "text/x-python",
   "name": "python",
   "nbconvert_exporter": "python",
   "pygments_lexer": "ipython3",
   "version": "3.11.4"
  }
 },
 "nbformat": 4,
 "nbformat_minor": 4
}
